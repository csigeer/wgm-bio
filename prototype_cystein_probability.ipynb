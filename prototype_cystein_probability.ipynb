{
 "cells": [
  {
   "cell_type": "markdown",
   "metadata": {},
   "source": [
    "# DNA sequences and probable peptides\n",
    "\n",
    "Question from Susan:\n",
    "\n",
    "If you have a random nucleotide sequence (NNK) x 10, with N being A, G, T, or C and K being a G or a T, how likely is it that:\n",
    "- I will get at least one cysteine encoded?\n",
    "- I will get only one cysteine encoded?\n",
    "- I will get more than one cysteine encoded?\n",
    "- I will get no cysteine encoded?\n",
    "\n",
    "\n",
    "## Will's answer . . . \n",
    "\n",
    "All these types of questions depend on the probability of a single NNK, codon being a Cystine?  So, I'll talk about how to compute that. We start by counting the number of possible three nucleotide sequences.  Four in the first slot, four in the second slot and 2 in the third:\n",
    "\\begin{align}\n",
    "N_{\\textrm{codons}} &= 4 \\times 4 \\times 2\\\\\n",
    "&= 32. \n",
    "\\end{align}\n",
    "This tells us that the probability of any particular codon is $p=1/32$.  Only one of the cysteine codons fits the NNK form so $p=1/32$.    \n",
    "\n",
    "\n",
    "## Getting no cysteins\n",
    "\n",
    "The probability that we get no cysteines is pretty easy to compute, so I'll start there.  The probability that any codon is NOT cystein is $1-p = 31/32$.  To get none in a sequence of 10 codons we need to multiply $(1-p)\\times (1-p) \\times ... \\times (1-p)$ ten times.  So, lets do that in the code below. \n",
    "\n",
    "## Getting one or more\n",
    "\n",
    "This is a complimentary case to the probability is, \n",
    "$$\n",
    "P_{\\textrm{one or more}} = 1 - P_{\\textrm{zero}}\n",
    "$$\n",
    "\n"
   ]
  },
  {
   "cell_type": "code",
   "execution_count": 1,
   "metadata": {
    "collapsed": false
   },
   "outputs": [],
   "source": [
    "\n",
    "# The answer to the last question\n",
    "p = 1.0 / 32.0\n",
    "P_zero = (1.0 - p)**10\n",
    "\n"
   ]
  },
  {
   "cell_type": "code",
   "execution_count": 2,
   "metadata": {
    "collapsed": false
   },
   "outputs": [],
   "source": [
    "# The answer to the first question \n",
    "P_one_or_more = 1.0 - P_zero\n"
   ]
  },
  {
   "cell_type": "markdown",
   "metadata": {},
   "source": [
    "## Getting exactly one cysteine\n",
    "\n",
    "This is slighly more difficult, since there is more than one way to get a single cysteine.  We need to add the probabilities or each of the ten ways.\n",
    "\n",
    "The probability of any one particular sequence with one cysteine computed by the multiplication principal for independent events: $p\\,(1-p)^{9}$.  And, there are ten different equally probable ways to get one cysteine.  Thus the probability is,  \n",
    "\\begin{align}\n",
    "P_{\\textrm{one}} = 10\\, p\\, (1-p)^{9}. \n",
    "\\end{align}\n",
    "\n",
    "## Getting two or more cysteine\n",
    "\n",
    "Since we can never get zero cysteines AND get one cysteine, they are exclusive events.  Getting two or more is complementary to getting either one or zero.\n",
    "\\begin{align}\n",
    "P_{\\textrm{two or more}} &= 1 - P_{\\textrm{zero or one}}\\\\\n",
    "&= 1 - (P_{zero} + P_{one})\n",
    "\\end{align}\n",
    "For the second equality we needed the events to be exclusive."
   ]
  },
  {
   "cell_type": "code",
   "execution_count": 3,
   "metadata": {
    "collapsed": false
   },
   "outputs": [],
   "source": [
    "# Answer to the  second question\n",
    "P_one = 10 * p * (1.0-p)**9\n"
   ]
  },
  {
   "cell_type": "code",
   "execution_count": 4,
   "metadata": {
    "collapsed": true
   },
   "outputs": [],
   "source": [
    "# answer to the third question \n",
    "P_two_or_more = 1.0 - P_zero - P_one"
   ]
  },
  {
   "cell_type": "code",
   "execution_count": 5,
   "metadata": {
    "collapsed": false
   },
   "outputs": [
    {
     "name": "stdout",
     "output_type": "stream",
     "text": [
      "One or more cysteines: P=0.272\n",
      "Exactly one cysteine:  P=0.235\n",
      "Two or more cysteines: P=0.0372\n",
      "No cysteines:          P=0.728\n"
     ]
    }
   ],
   "source": [
    "# Print the answers to the questions. \n",
    "\n",
    "## Question one \n",
    "msg =\"One or more cysteines: P={0:.3}\"\n",
    "print(msg.format(P_one_or_more))\n",
    "\n",
    "## Question two\n",
    "msg =\"Exactly one cysteine:  P={0:.3}\"\n",
    "print(msg.format(P_one))\n",
    "\n",
    "## Question three\n",
    "msg =\"Two or more cysteines: P={0:.3}\"\n",
    "print(msg.format(P_two_or_more))\n",
    "\n",
    "## Question four\n",
    "msg =\"No cysteines:          P={0:.3}\"\n",
    "print(msg.format(P_zero))\n",
    "\n"
   ]
  },
  {
   "cell_type": "markdown",
   "metadata": {},
   "source": [
    "# The general problem \n",
    "\n",
    "The probabilities follow something called the binomial probability distribution.  We can talk about it more later, but it would be pretty simple to compute the probability of getting extra cysteines, stop codons, or a certain number or protiens. "
   ]
  },
  {
   "cell_type": "code",
   "execution_count": 6,
   "metadata": {
    "collapsed": false
   },
   "outputs": [],
   "source": [
    "%matplotlib inline\n",
    "\n",
    "## The general problem follows a binomial probability distribution \n",
    "import scipy as sp\n",
    "import scipy.stats as ss\n",
    "import matplotlib.pyplot as plt\n",
    "\n",
    "\n",
    "# Prepare a distribution for repare\n",
    "n = 10             # length of sequence\n",
    "p = 1.0 / 32.0     # probability of one codon being a cysteine\n",
    "k = sp.arange(11)  # number of cysteins 0..10\n",
    "\n",
    "# Make a random variable for cysteine\n",
    "rv_cys = ss.binom(n, p)\n",
    "\n",
    "# Compute the probabilities for each number of cysteins\n",
    "p_k = rv_cys.pmf(k)  # evaluate the probability mass function \n"
   ]
  },
  {
   "cell_type": "code",
   "execution_count": 7,
   "metadata": {
    "collapsed": false
   },
   "outputs": [
    {
     "data": {
      "text/plain": [
       "<matplotlib.legend.Legend at 0x7f9d6d4f8bd0>"
      ]
     },
     "execution_count": 7,
     "metadata": {},
     "output_type": "execute_result"
    },
    {
     "data": {
      "image/png": "[encoded data removed]",
      "text/plain": [
       "<matplotlib.figure.Figure at 0x7f9d6d492b10>"
      ]
     },
     "metadata": {},
     "output_type": "display_data"
    }
   ],
   "source": [
    "# plot the probabilities \n",
    "fig = plt.figure(0, (5, 5))\n",
    "ax0 = fig.add_subplot(1,1,1)\n",
    "ax0.plot(k, p_k, '-k', label='cys', linewidth=2.5)\n",
    "ax0.set_ylabel(\"Probability of number of cysteines\")\n",
    "ax0.set_xlabel('Number of cysteins')\n",
    "ax0.legend()"
   ]
  },
  {
   "cell_type": "code",
   "execution_count": null,
   "metadata": {
    "collapsed": true
   },
   "outputs": [],
   "source": []
  },
  {
   "cell_type": "code",
   "execution_count": null,
   "metadata": {
    "collapsed": true
   },
   "outputs": [],
   "source": []
  },
  {
   "cell_type": "code",
   "execution_count": null,
   "metadata": {
    "collapsed": true
   },
   "outputs": [],
   "source": []
  },
  {
   "cell_type": "code",
   "execution_count": null,
   "metadata": {
    "collapsed": true
   },
   "outputs": [],
   "source": []
  },
  {
   "cell_type": "code",
   "execution_count": null,
   "metadata": {
    "collapsed": true
   },
   "outputs": [],
   "source": []
  },
  {
   "cell_type": "code",
   "execution_count": null,
   "metadata": {
    "collapsed": true
   },
   "outputs": [],
   "source": []
  }
 ],
 "metadata": {
  "kernelspec": {
   "display_name": "Python 2",
   "language": "python",
   "name": "python2"
  },
  "language_info": {
   "codemirror_mode": {
    "name": "ipython",
    "version": 2
   },
   "file_extension": ".py",
   "mimetype": "text/x-python",
   "name": "python",
   "nbconvert_exporter": "python",
   "pygments_lexer": "ipython2",
   "version": "2.7.11"
  }
 },
 "nbformat": 4,
 "nbformat_minor": 0
}
